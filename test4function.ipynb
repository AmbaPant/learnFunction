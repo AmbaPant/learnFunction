{
 "cells": [
  {
   "cell_type": "markdown",
   "metadata": {},
   "source": [
    "# Test to collect interested values and parameters from a file using function"
   ]
  },
  {
   "cell_type": "code",
   "execution_count": 76,
   "metadata": {},
   "outputs": [],
   "source": [
    "#this test can run successfully importing only one \n",
    "\n",
    "#import subprocess\n",
    "#import string\n",
    "#from sys import argv,exit\n",
    "\n",
    "from os.path import exists"
   ]
  },
  {
   "cell_type": "code",
   "execution_count": 95,
   "metadata": {},
   "outputs": [],
   "source": [
    "def collect_n_write(parameter):\n",
    "    tot_let = len( parameter )                     #count the letters in the interested parameter\n",
    "    #print(tot_let)\n",
    "    if needed_part[1][:tot_let] == parameter:      #read the letters until tot_let of the parameter. this line understands parameter\n",
    "        print(needed_part)                         \n",
    "        par_name = needed_part[1]                  #this is name of value\n",
    "        par_val = needed_part[2]                   #this is value of parameter\n",
    "        par_err = needed_part[3]                   #this is error bar\n",
    "        print(par_name,'\\t', par_val,'\\t', par_err)\n",
    "        #write the collected data in output file\n",
    "        f = open(outfile,'a+') \n",
    "        f.write(\"%s \\t%s \\t%s\\n\" %(par_name, par_val, par_err))\n",
    "        f.close()"
   ]
  },
  {
   "cell_type": "code",
   "execution_count": 96,
   "metadata": {},
   "outputs": [],
   "source": [
    "infile = \"testFitFile.msr\"\n",
    "outfile = \"collectedData.txt\""
   ]
  },
  {
   "cell_type": "code",
   "execution_count": 98,
   "metadata": {},
   "outputs": [
    {
     "name": "stdout",
     "output_type": "stream",
     "text": [
      "['1', 'alpha', '1.0428', '0.0011', 'none', '0', '2']\n",
      "alpha \t 1.0428 \t 0.0011\n"
     ]
    }
   ],
   "source": [
    "if exists(infile):\n",
    "    for line in open(infile, 'r'):\n",
    "        each_line = line.split(None, 10)\n",
    "#        print(each_line)\n",
    "        if len(each_line) < 5:            # if the parts of a line is less than 5, continue\n",
    "            continue\n",
    "        else:\n",
    "            needed_part = each_line\n",
    "#            print needed_part\n",
    "            collect_n_write ( 'alpha' )     # i want to collect alpha, its value and error\n",
    "#            collect_n_write ( 'asy_u' )            \n",
    "#            collect_n_write ( 'rate_u' )            \n",
    "#            collect_n_write ( 'phase_u' )            \n",
    "#            collect_n_write ( 'field_u' )            "
   ]
  },
  {
   "cell_type": "code",
   "execution_count": null,
   "metadata": {},
   "outputs": [],
   "source": []
  }
 ],
 "metadata": {
  "kernelspec": {
   "display_name": "Python 3",
   "language": "python",
   "name": "python3"
  },
  "language_info": {
   "codemirror_mode": {
    "name": "ipython",
    "version": 3
   },
   "file_extension": ".py",
   "mimetype": "text/x-python",
   "name": "python",
   "nbconvert_exporter": "python",
   "pygments_lexer": "ipython3",
   "version": "3.7.6"
  }
 },
 "nbformat": 4,
 "nbformat_minor": 4
}
